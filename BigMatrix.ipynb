{
 "cells": [
  {
   "cell_type": "code",
   "execution_count": 1,
   "metadata": {
    "collapsed": true
   },
   "outputs": [],
   "source": [
    "from scipy.sparse import lil_matrix\n",
    "from scipy.sparse.linalg import spsolve\n",
    "from numpy.linalg import solve, norm\n",
    "from numpy.random import rand"
   ]
  },
  {
   "cell_type": "code",
   "execution_count": 38,
   "metadata": {},
   "outputs": [
    {
     "data": {
      "text/plain": [
       "array([ 0.40414095,  0.69356656,  0.38550639,  0.21388827])"
      ]
     },
     "execution_count": 38,
     "metadata": {},
     "output_type": "execute_result"
    }
   ],
   "source": [
    "testRandom = rand(4) #make list of 4 random numbers in [0,1]\n",
    "testRandom"
   ]
  },
  {
   "cell_type": "code",
   "execution_count": 39,
   "metadata": {
    "collapsed": true
   },
   "outputs": [],
   "source": [
    "N = 1000000 #matrix size is NxN\n",
    "\n",
    "#Default is all elements are zerio\n",
    "A = lil_matrix((N,N))\n",
    "\n",
    "#Make diagonal random numbers\n",
    "A.setdiag(rand(N)) \n",
    "\n",
    "# Set top row, first N/10 elements, to random in [0,1]\n",
    "A[0, :N/10] = rand(N/10)\n",
    "\n",
    "# Set another chunk of a row to random numbers\n",
    "A[4*N/10, 5*N/10:6*N/10] = rand(N/10)"
   ]
  },
  {
   "cell_type": "code",
   "execution_count": 40,
   "metadata": {},
   "outputs": [
    {
     "data": {
      "text/plain": [
       "array([[ 0.5435196 ,  0.99600831,  0.93086404,  0.04457133],\n",
       "       [ 0.        ,  0.17035579,  0.        ,  0.        ],\n",
       "       [ 0.        ,  0.        ,  0.54361807,  0.        ],\n",
       "       [ 0.        ,  0.        ,  0.        ,  0.9577704 ]])"
      ]
     },
     "execution_count": 40,
     "metadata": {},
     "output_type": "execute_result"
    }
   ],
   "source": [
    "#Look at part of the matrix\n",
    "#i.e. look at top 4x4 elements\n",
    "A[:4,:4].toarray()"
   ]
  },
  {
   "cell_type": "code",
   "execution_count": 41,
   "metadata": {},
   "outputs": [
    {
     "data": {
      "image/png": "[encoded data removed]",
      "text/plain": [
       "<matplotlib.figure.Figure at 0x115b41090>"
      ]
     },
     "metadata": {},
     "output_type": "display_data"
    }
   ],
   "source": [
    "#Look at the whole matrix\n",
    "#Draw a picture of which elements are nonzero\n",
    "from matplotlib.pyplot import figure, show\n",
    "\n",
    "fig = figure()\n",
    "fig.clf()\n",
    "ax = fig.gca()\n",
    "\n",
    "ax.spy(A, markersize=1, precision=0.1)\n",
    "show()"
   ]
  },
  {
   "cell_type": "code",
   "execution_count": 42,
   "metadata": {
    "collapsed": true
   },
   "outputs": [],
   "source": [
    "#Solve A x = b with b=rand [0,1]\n",
    "\n",
    "#Make b\n",
    "b = rand(N)\n",
    "\n",
    "#Compress a\n",
    "Acompressed = A.tocsr()"
   ]
  },
  {
   "cell_type": "code",
   "execution_count": 43,
   "metadata": {},
   "outputs": [],
   "source": [
    "#Solve. For N=1e6, takes about a minute.\n",
    "\n",
    "x = spsolve(Acompressed,b)"
   ]
  },
  {
   "cell_type": "code",
   "execution_count": 46,
   "metadata": {},
   "outputs": [
    {
     "data": {
      "text/plain": [
       "array([ -7.09323687e+05,   1.07777733e+00,   1.28391936e+00, ...,\n",
       "         1.28648877e+00,   3.72727313e+00,   7.16594484e-02])"
      ]
     },
     "execution_count": 46,
     "metadata": {},
     "output_type": "execute_result"
    }
   ],
   "source": [
    "#Get the first few elements of x\n",
    "x"
   ]
  },
  {
   "cell_type": "code",
   "execution_count": 47,
   "metadata": {
    "collapsed": true
   },
   "outputs": [],
   "source": [
    "#Check that x is a solution\n",
    "Ax = Acompressed.dot(x)"
   ]
  },
  {
   "cell_type": "code",
   "execution_count": 48,
   "metadata": {},
   "outputs": [
    {
     "data": {
      "text/plain": [
       "2.1657106129922757e-11"
      ]
     },
     "execution_count": 48,
     "metadata": {},
     "output_type": "execute_result"
    }
   ],
   "source": [
    "#Check norm of Ax-b\n",
    "#Norm = sqrt of sum of squares of elements in matrix\n",
    "norm(Ax-b)"
   ]
  },
  {
   "cell_type": "code",
   "execution_count": null,
   "metadata": {
    "collapsed": true
   },
   "outputs": [],
   "source": []
  }
 ],
 "metadata": {
  "kernelspec": {
   "display_name": "Python 2",
   "language": "python",
   "name": "python2"
  },
  "language_info": {
   "codemirror_mode": {
    "name": "ipython",
    "version": 2
   },
   "file_extension": ".py",
   "mimetype": "text/x-python",
   "name": "python",
   "nbconvert_exporter": "python",
   "pygments_lexer": "ipython2",
   "version": "2.7.13"
  }
 },
 "nbformat": 4,
 "nbformat_minor": 2
}
